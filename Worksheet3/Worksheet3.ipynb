{
 "cells": [
  {
   "cell_type": "markdown",
   "metadata": {},
   "source": [
    "Create 'd', a nested list that contains 5 other lists. The first list should contain the four string values: ID, Age, is_part_time, salary. The next 4 lists should contain date of types: int, int, boolean, int. For example [3, 35, False, 72000]. Populate these 4 remaining lists with your own made-up data."
   ]
  },
  {
   "cell_type": "code",
   "execution_count": 169,
   "metadata": {},
   "outputs": [],
   "source": [
    "d = [[\"ID\",\"Age\",\"is_part_time\",\"salary\"], [1, 20, True, 1000], [2, 30, False, 2000], [3, 40, True, 3000], [4, 50, False, 4000]]"
   ]
  },
  {
   "cell_type": "markdown",
   "metadata": {},
   "source": [
    "Print your current working directory to the console."
   ]
  },
  {
   "cell_type": "code",
   "execution_count": 170,
   "metadata": {},
   "outputs": [
    {
     "name": "stdout",
     "output_type": "stream",
     "text": [
      "Current Working Directory: /Users/mujtabach2/Coding/Data Analysis Labs/Worksheet3\n"
     ]
    }
   ],
   "source": [
    "import os \n",
    "current_directory = os.getcwd()\n",
    "print(\"Current Working Directory:\", current_directory)"
   ]
  },
  {
   "cell_type": "markdown",
   "metadata": {},
   "source": [
    "Using Python's csv module, write 'd' to disk as a csv file. Use the method writerows() to write the nested list structure."
   ]
  },
  {
   "cell_type": "code",
   "execution_count": 171,
   "metadata": {},
   "outputs": [],
   "source": [
    "import csv\n",
    "with open('d.csv', 'w') as file:\n",
    "    writer = csv.writer(file)\n",
    "    writer.writerows(d)\n",
    "    "
   ]
  },
  {
   "cell_type": "markdown",
   "metadata": {},
   "source": [
    "Using pandas module, load the same csv file into 'd2', and print d2."
   ]
  },
  {
   "cell_type": "code",
   "execution_count": 172,
   "metadata": {},
   "outputs": [
    {
     "name": "stdout",
     "output_type": "stream",
     "text": [
      "   ID  Age  is_part_time  salary\n",
      "0   1   20          True    1000\n",
      "1   2   30         False    2000\n",
      "2   3   40          True    3000\n",
      "3   4   50         False    4000\n"
     ]
    }
   ],
   "source": [
    "import pandas as pd\n",
    "d2 = pd.read_csv('d.csv')\n",
    "print(d2)"
   ]
  },
  {
   "cell_type": "markdown",
   "metadata": {},
   "source": [
    "Create a Series 'd' containing 5 values, 0 through 4 inclusive, in increments of 1, with indexes 'a' through 'e', inclusive."
   ]
  },
  {
   "cell_type": "code",
   "execution_count": 173,
   "metadata": {},
   "outputs": [
    {
     "name": "stdout",
     "output_type": "stream",
     "text": [
      "a    0\n",
      "b    1\n",
      "c    2\n",
      "d    3\n",
      "e    4\n",
      "dtype: int64\n"
     ]
    }
   ],
   "source": [
    "d = pd.Series(range(0,5,1),index=['a','b','c','d','e'])\n",
    "print(d)"
   ]
  },
  {
   "cell_type": "markdown",
   "metadata": {},
   "source": [
    "Create a 'd2' containing 5 values, 5 through 9 inclusive, with indexes: a,b,c,d,z."
   ]
  },
  {
   "cell_type": "code",
   "execution_count": 174,
   "metadata": {},
   "outputs": [
    {
     "name": "stdout",
     "output_type": "stream",
     "text": [
      "a    5\n",
      "b    6\n",
      "c    7\n",
      "d    8\n",
      "z    9\n",
      "dtype: int64\n"
     ]
    }
   ],
   "source": [
    "d2 = pd.Series(range(5,10), index=['a','b','c','d','z'])\n",
    "print(d2)"
   ]
  },
  {
   "cell_type": "markdown",
   "metadata": {},
   "source": [
    "Arithmetically add d and d2, save in 'd3', and print d3 to the console. You should see two NaN values at the end of d3."
   ]
  },
  {
   "cell_type": "code",
   "execution_count": 175,
   "metadata": {},
   "outputs": [
    {
     "name": "stdout",
     "output_type": "stream",
     "text": [
      "a     5.0\n",
      "b     7.0\n",
      "c     9.0\n",
      "d    11.0\n",
      "e     NaN\n",
      "z     NaN\n",
      "dtype: float64\n"
     ]
    }
   ],
   "source": [
    "d3 = d2 + d\n",
    "print(d3)"
   ]
  },
  {
   "cell_type": "markdown",
   "metadata": {},
   "source": [
    "Using a Panda's method, identify which values in d3 contain NaN. Using that information, print only those NaN values in d3 to console"
   ]
  },
  {
   "cell_type": "code",
   "execution_count": 176,
   "metadata": {},
   "outputs": [
    {
     "name": "stdout",
     "output_type": "stream",
     "text": [
      "e   NaN\n",
      "z   NaN\n",
      "dtype: float64\n"
     ]
    }
   ],
   "source": [
    "nan_values = d3[d3.isna()]\n",
    "print(nan_values)"
   ]
  },
  {
   "cell_type": "markdown",
   "metadata": {},
   "source": [
    "Pandas come with a few built-in DataFrame objects. Assign the following built-in DataFrame to variable 'd4': pd._testing.makeMixedDataFrame(). Print d4 to console."
   ]
  },
  {
   "cell_type": "code",
   "execution_count": 177,
   "metadata": {},
   "outputs": [
    {
     "name": "stdout",
     "output_type": "stream",
     "text": [
      "     A    B     C          D\n",
      "0  0.0  0.0  foo1 2009-01-01\n",
      "1  1.0  1.0  foo2 2009-01-02\n",
      "2  2.0  0.0  foo3 2009-01-05\n",
      "3  3.0  1.0  foo4 2009-01-06\n",
      "4  4.0  0.0  foo5 2009-01-07\n"
     ]
    }
   ],
   "source": [
    "d4 = pd._testing.makeMixedDataFrame()\n",
    "print(d4)"
   ]
  },
  {
   "cell_type": "code",
   "execution_count": 178,
   "metadata": {},
   "outputs": [
    {
     "name": "stdout",
     "output_type": "stream",
     "text": [
      "     A    B     C          D  greater\n",
      "0  0.0  0.0  foo1 2009-01-01    False\n",
      "1  1.0  1.0  foo2 2009-01-02    False\n",
      "2  2.0  0.0  foo3 2009-01-05    False\n",
      "3  3.0  1.0  foo4 2009-01-06     True\n",
      "4  4.0  0.0  foo5 2009-01-07     True\n"
     ]
    }
   ],
   "source": [
    "d4['greater'] = d4['A'] > 2\n",
    "print(d4)"
   ]
  }
 ],
 "metadata": {
  "kernelspec": {
   "display_name": "Python 3",
   "language": "python",
   "name": "python3"
  },
  "language_info": {
   "codemirror_mode": {
    "name": "ipython",
    "version": 3
   },
   "file_extension": ".py",
   "mimetype": "text/x-python",
   "name": "python",
   "nbconvert_exporter": "python",
   "pygments_lexer": "ipython3",
   "version": "3.10.1"
  }
 },
 "nbformat": 4,
 "nbformat_minor": 2
}
