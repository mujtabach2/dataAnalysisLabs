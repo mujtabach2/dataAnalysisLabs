{
 "cells": [
  {
   "cell_type": "code",
   "execution_count": 70,
   "metadata": {},
   "outputs": [],
   "source": [
    "import numpy as np"
   ]
  },
  {
   "cell_type": "code",
   "execution_count": 71,
   "metadata": {},
   "outputs": [],
   "source": [
    "d = [2, 4, 6, 8, 'Monday', 'Tuesday']\n"
   ]
  },
  {
   "cell_type": "code",
   "execution_count": 72,
   "metadata": {},
   "outputs": [
    {
     "name": "stdout",
     "output_type": "stream",
     "text": [
      "[2, 4, 100, 6, 8, 'Monday', 'Tuesday']\n"
     ]
    }
   ],
   "source": [
    "d.insert(2, 100)\n",
    "print(d)"
   ]
  },
  {
   "cell_type": "code",
   "execution_count": 73,
   "metadata": {},
   "outputs": [
    {
     "name": "stdout",
     "output_type": "stream",
     "text": [
      "Type: <class 'int'> Value: 2\t\n",
      "Type: <class 'int'> Value: 4\t\n",
      "Type: <class 'int'> Value: 100\t\n",
      "Type: <class 'int'> Value: 6\t\n",
      "Type: <class 'int'> Value: 8\t\n",
      "Type: <class 'str'> Value: Monday\t\n",
      "Type: <class 'str'> Value: Tuesday\t\n"
     ]
    }
   ],
   "source": [
    "for index, value in enumerate(d):\n",
    "    print(f'Type: {type(value)} Value: {value}\\t')"
   ]
  },
  {
   "cell_type": "code",
   "execution_count": 74,
   "metadata": {},
   "outputs": [
    {
     "name": "stdout",
     "output_type": "stream",
     "text": [
      "['Wednesday', 'Thursday', 'Friday']\n"
     ]
    }
   ],
   "source": [
    "d2 = ['Wednesday', 'Thursday', 'Friday']\n",
    "print(d2)\n"
   ]
  },
  {
   "cell_type": "code",
   "execution_count": 75,
   "metadata": {},
   "outputs": [
    {
     "name": "stdout",
     "output_type": "stream",
     "text": [
      "[2, 4, 100, 6, 8, 'Monday', 'Tuesday', 'Wednesday', 'Thursday', 'Friday']\n"
     ]
    }
   ],
   "source": [
    "d = d + d2\n",
    "print(d)"
   ]
  },
  {
   "cell_type": "code",
   "execution_count": 76,
   "metadata": {},
   "outputs": [
    {
     "name": "stdout",
     "output_type": "stream",
     "text": [
      "\"My favourite day of the week is Friday\"\n"
     ]
    }
   ],
   "source": [
    "popped = d.pop()\n",
    "print(f'\"My favourite day of the week is {popped}\"')"
   ]
  },
  {
   "cell_type": "code",
   "execution_count": 77,
   "metadata": {},
   "outputs": [
    {
     "name": "stdout",
     "output_type": "stream",
     "text": [
      "[ 0.          3.88888889  7.77777778 11.66666667 15.55555556 19.44444444\n",
      " 23.33333333 27.22222222 31.11111111 35.        ]\n"
     ]
    }
   ],
   "source": [
    "d = np.linspace(0, 35, 10)\n",
    "print(d)"
   ]
  },
  {
   "cell_type": "code",
   "execution_count": 78,
   "metadata": {},
   "outputs": [
    {
     "name": "stdout",
     "output_type": "stream",
     "text": [
      "[[ 0.          3.88888889]\n",
      " [ 7.77777778 11.66666667]\n",
      " [15.55555556 19.44444444]\n",
      " [23.33333333 27.22222222]\n",
      " [31.11111111 35.        ]]\n"
     ]
    }
   ],
   "source": [
    "d = d.reshape(5, 2)\n",
    "print(d)"
   ]
  },
  {
   "cell_type": "code",
   "execution_count": 79,
   "metadata": {},
   "outputs": [
    {
     "name": "stdout",
     "output_type": "stream",
     "text": [
      "Column 1 mean: 15.56\n",
      "Column 2 mean: 19.44\n"
     ]
    }
   ],
   "source": [
    "column_means = np.mean(d, axis=0)\n",
    "rounded_column_means = np.round(column_means, 2)\n",
    "print(f'Column 1 mean: {rounded_column_means[0]}\\nColumn 2 mean: {rounded_column_means[1]}')"
   ]
  },
  {
   "cell_type": "code",
   "execution_count": 80,
   "metadata": {},
   "outputs": [
    {
     "name": "stdout",
     "output_type": "stream",
     "text": [
      "[ 3.88888889 11.66666667 19.44444444 27.22222222 35.        ]\n"
     ]
    }
   ],
   "source": [
    "print(d[:, 1])"
   ]
  }
 ],
 "metadata": {
  "kernelspec": {
   "display_name": "Python 3",
   "language": "python",
   "name": "python3"
  },
  "language_info": {
   "codemirror_mode": {
    "name": "ipython",
    "version": 3
   },
   "file_extension": ".py",
   "mimetype": "text/x-python",
   "name": "python",
   "nbconvert_exporter": "python",
   "pygments_lexer": "ipython3",
   "version": "3.10.1"
  }
 },
 "nbformat": 4,
 "nbformat_minor": 2
}
