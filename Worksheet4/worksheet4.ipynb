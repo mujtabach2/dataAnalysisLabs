{
 "cells": [
  {
   "cell_type": "code",
   "execution_count": 63,
   "metadata": {},
   "outputs": [],
   "source": [
    "import pandas as pd\n",
    "import numpy as np\n",
    "d = pd.DataFrame({'Mon': [68, 89, np.nan], 'Wed': [71, 93, 48], 'Fri': [66, 82, 104],\n",
    "'Tue': [75, 97, 43], 'Thu': [62, np.nan, 89]}, index = [\"day1\",\"day2\",\"day3\"]).T"
   ]
  },
  {
   "cell_type": "markdown",
   "metadata": {},
   "source": [
    "1. Reindex 'd' so row indices read chronologically, and include Sat and Sun. That is, \"Mon\", \"Tue\", ..., \"Sat', \"Sun\", and the columns indices read day3, day2, day1. Print d to the console."
   ]
  },
  {
   "cell_type": "code",
   "execution_count": 64,
   "metadata": {},
   "outputs": [
    {
     "name": "stdout",
     "output_type": "stream",
     "text": [
      "      day3  day2  day1\n",
      "Mon    NaN  89.0  68.0\n",
      "Tue   43.0  97.0  75.0\n",
      "Wed   48.0  93.0  71.0\n",
      "Thu   89.0   NaN  62.0\n",
      "Fri  104.0  82.0  66.0\n",
      "Sat    NaN   NaN   NaN\n",
      "Sun    NaN   NaN   NaN\n"
     ]
    }
   ],
   "source": [
    "d = d.reindex(index=[\"Mon\", \"Tue\", \"Wed\", \"Thu\", \"Fri\", \"Sat\", \"Sun\"], columns=[\"day3\", \"day2\", \"day1\"])\n",
    "\n",
    "print(d)"
   ]
  },
  {
   "cell_type": "markdown",
   "metadata": {},
   "source": [
    "2.Print to the console the following elements: Tuesday and Thursday, for days3 and days2."
   ]
  },
  {
   "cell_type": "code",
   "execution_count": 65,
   "metadata": {},
   "outputs": [
    {
     "name": "stdout",
     "output_type": "stream",
     "text": [
      "Tuesday Day 3:  43.0\n",
      "Thursday Day 3:  89.0\n",
      "Tuesday Day 2:  97.0\n",
      "Thursday Day 2:  nan\n"
     ]
    }
   ],
   "source": [
    "print(\"Tuesday Day 3: \",d.loc[\"Tue\",\"day3\"])\n",
    "print(\"Thursday Day 3: \",d.loc[\"Thu\",\"day3\"])\n",
    "print(\"Tuesday Day 2: \",d.loc[\"Tue\",\"day2\"])\n",
    "print(\"Thursday Day 2: \",d.loc[\"Thu\",\"day2\"])\n"
   ]
  },
  {
   "cell_type": "markdown",
   "metadata": {},
   "source": [
    "Using a single line of code, print the mean temperature for each day of the week to the console, rounding values to 3 decimal places.\n"
   ]
  },
  {
   "cell_type": "code",
   "execution_count": 66,
   "metadata": {},
   "outputs": [
    {
     "name": "stdout",
     "output_type": "stream",
     "text": [
      "Mon    78.500\n",
      "Tue    71.667\n",
      "Wed    70.667\n",
      "Thu    75.500\n",
      "Fri    84.000\n",
      "Sat       NaN\n",
      "Sun       NaN\n",
      "dtype: float64\n"
     ]
    }
   ],
   "source": [
    "print(d.mean(axis=1).round(3))"
   ]
  },
  {
   "cell_type": "markdown",
   "metadata": {},
   "source": [
    "The next two questions will use GroupBy operations, and will use the following CSV - https://vincentarelbundock.github.io/Rdatasets/csv/ggplot2/mpg.csv. Load this data into 'd' with pd.read_csv().  This data describes Fuel economy data from 1999 to 2008 for 38 popular models of cars."
   ]
  },
  {
   "cell_type": "code",
   "execution_count": 67,
   "metadata": {},
   "outputs": [
    {
     "name": "stdout",
     "output_type": "stream",
     "text": [
      "   rownames manufacturer model  displ  year  cyl       trans drv  cty  hwy fl  \\\n",
      "0         1         audi    a4    1.8  1999    4    auto(l5)   f   18   29  p   \n",
      "1         2         audi    a4    1.8  1999    4  manual(m5)   f   21   29  p   \n",
      "2         3         audi    a4    2.0  2008    4  manual(m6)   f   20   31  p   \n",
      "3         4         audi    a4    2.0  2008    4    auto(av)   f   21   30  p   \n",
      "4         5         audi    a4    2.8  1999    6    auto(l5)   f   16   26  p   \n",
      "\n",
      "     class  \n",
      "0  compact  \n",
      "1  compact  \n",
      "2  compact  \n",
      "3  compact  \n",
      "4  compact  \n"
     ]
    }
   ],
   "source": [
    "d = pd.read_csv(\"https://vincentarelbundock.github.io/Rdatasets/csv/ggplot2/mpg.csv\")\n",
    "print(d.head())"
   ]
  },
  {
   "cell_type": "code",
   "execution_count": 68,
   "metadata": {},
   "outputs": [
    {
     "name": "stdout",
     "output_type": "stream",
     "text": [
      "manufacturer\n",
      "audi          17.611111\n",
      "chevrolet     15.000000\n",
      "dodge         13.135135\n",
      "ford          14.000000\n",
      "honda         24.444444\n",
      "hyundai       18.642857\n",
      "jeep          13.500000\n",
      "land rover    11.500000\n",
      "lincoln       11.333333\n",
      "mercury       13.250000\n",
      "nissan        18.076923\n",
      "pontiac       17.000000\n",
      "subaru        19.285714\n",
      "toyota        18.529412\n",
      "volkswagen    20.925926\n",
      "Name: cty, dtype: float64\n"
     ]
    }
   ],
   "source": [
    "print(d.groupby(\"manufacturer\")[\"cty\"].mean())"
   ]
  },
  {
   "cell_type": "code",
   "execution_count": 69,
   "metadata": {},
   "outputs": [
    {
     "data": {
      "text/html": [
       "<div>\n",
       "<style scoped>\n",
       "    .dataframe tbody tr th:only-of-type {\n",
       "        vertical-align: middle;\n",
       "    }\n",
       "\n",
       "    .dataframe tbody tr th {\n",
       "        vertical-align: top;\n",
       "    }\n",
       "\n",
       "    .dataframe thead th {\n",
       "        text-align: right;\n",
       "    }\n",
       "</style>\n",
       "<table border=\"1\" class=\"dataframe\">\n",
       "  <thead>\n",
       "    <tr style=\"text-align: right;\">\n",
       "      <th>drv</th>\n",
       "      <th>4</th>\n",
       "      <th>f</th>\n",
       "      <th>r</th>\n",
       "    </tr>\n",
       "    <tr>\n",
       "      <th>cyl</th>\n",
       "      <th></th>\n",
       "      <th></th>\n",
       "      <th></th>\n",
       "    </tr>\n",
       "  </thead>\n",
       "  <tbody>\n",
       "    <tr>\n",
       "      <th>4</th>\n",
       "      <td>23.0</td>\n",
       "      <td>58.0</td>\n",
       "      <td>NaN</td>\n",
       "    </tr>\n",
       "    <tr>\n",
       "      <th>5</th>\n",
       "      <td>NaN</td>\n",
       "      <td>4.0</td>\n",
       "      <td>NaN</td>\n",
       "    </tr>\n",
       "    <tr>\n",
       "      <th>6</th>\n",
       "      <td>32.0</td>\n",
       "      <td>43.0</td>\n",
       "      <td>4.0</td>\n",
       "    </tr>\n",
       "    <tr>\n",
       "      <th>8</th>\n",
       "      <td>48.0</td>\n",
       "      <td>1.0</td>\n",
       "      <td>21.0</td>\n",
       "    </tr>\n",
       "  </tbody>\n",
       "</table>\n",
       "</div>"
      ],
      "text/plain": [
       "drv     4     f     r\n",
       "cyl                  \n",
       "4    23.0  58.0   NaN\n",
       "5     NaN   4.0   NaN\n",
       "6    32.0  43.0   4.0\n",
       "8    48.0   1.0  21.0"
      ]
     },
     "execution_count": 69,
     "metadata": {},
     "output_type": "execute_result"
    }
   ],
   "source": [
    "grouped = d.groupby([\"cyl\", \"drv\"]).size()\n",
    "grouped.unstack()"
   ]
  }
 ],
 "metadata": {
  "kernelspec": {
   "display_name": "Python 3",
   "language": "python",
   "name": "python3"
  },
  "language_info": {
   "codemirror_mode": {
    "name": "ipython",
    "version": 3
   },
   "file_extension": ".py",
   "mimetype": "text/x-python",
   "name": "python",
   "nbconvert_exporter": "python",
   "pygments_lexer": "ipython3",
   "version": "3.10.1"
  }
 },
 "nbformat": 4,
 "nbformat_minor": 2
}
