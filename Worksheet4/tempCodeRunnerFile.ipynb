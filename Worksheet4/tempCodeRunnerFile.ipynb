import pandas as pd
import numpy as np
d = pd.DataFrame({'Mon': [68, 89, np.nan], 'Wed': [71, 93, 48], 'Fri': [66, 82, 104],
'Tue': [75, 97, 43], 'Thu': [62, np.nan, 89]}, index = ["day1","day2","day3"]).T